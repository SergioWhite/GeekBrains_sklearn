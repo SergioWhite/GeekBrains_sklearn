{
 "cells": [
  {
   "cell_type": "code",
   "execution_count": 2,
   "metadata": {},
   "outputs": [
    {
     "name": "stdout",
     "output_type": "stream",
     "text": [
      "Оценка предсказания метода линейной регрессии:  0.6693702691495607\n"
     ]
    }
   ],
   "source": [
    "#Задание 1\n",
    "import pandas as pd\n",
    "import numpy as np\n",
    "\n",
    "from sklearn.datasets import load_boston\n",
    "from sklearn.model_selection import train_test_split\n",
    "from sklearn.linear_model import LinearRegression\n",
    "from sklearn.metrics import r2_score\n",
    "\n",
    "boston = load_boston()\n",
    "\n",
    "X = pd.DataFrame(boston.data, columns = boston.feature_names)\n",
    "y = pd.DataFrame(boston.target, columns = ['price'])\n",
    "\n",
    "X_train, X_test, y_train, y_test = train_test_split(X, y, test_size = 0.3, random_state = 42)\n",
    "\n",
    "lr = LinearRegression()\n",
    "lr.fit(X_train, y_train)\n",
    "\n",
    "y_predict_linear = lr.predict(X_test)\n",
    "y_r2_score_linear = r2_score(y_predict_linear, y_test)\n",
    "print('Оценка предсказания метода линейной регрессии: ', y_r2_score_linear)"
   ]
  },
  {
   "cell_type": "code",
   "execution_count": 5,
   "metadata": {},
   "outputs": [
    {
     "name": "stdout",
     "output_type": "stream",
     "text": [
      "Оценка предсказания метода случайных лесов:  0.8422026724370548\n",
      "Метод случайных лесов точнее метода линейной регрессии на 0.17283240328749416 точнее\n"
     ]
    }
   ],
   "source": [
    "#Задание 2\n",
    "from sklearn.ensemble import RandomForestRegressor\n",
    "\n",
    "model = RandomForestRegressor(n_estimators = 100, max_depth = 12, random_state = 42)\n",
    "model.fit(X_train, y_train.values[:, 0])\n",
    "\n",
    "y_predict_forest = model.predict(X_test)\n",
    "y_r2_score_forest = r2_score(y_predict_forest, y_test)\n",
    "print('Оценка предсказания метода случайных лесов: ', y_r2_score_forest)\n",
    "print('Метод случайных лесов точнее метода линейной регрессии на %s точнее' % (y_r2_score_forest - y_r2_score_linear))"
   ]
  }
 ],
 "metadata": {
  "kernelspec": {
   "display_name": "Python 3",
   "language": "python",
   "name": "python3"
  },
  "language_info": {
   "codemirror_mode": {
    "name": "ipython",
    "version": 3
   },
   "file_extension": ".py",
   "mimetype": "text/x-python",
   "name": "python",
   "nbconvert_exporter": "python",
   "pygments_lexer": "ipython3",
   "version": "3.8.3"
  }
 },
 "nbformat": 4,
 "nbformat_minor": 4
}
